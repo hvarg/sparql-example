{
 "cells": [
  {
   "cell_type": "markdown",
   "id": "226380be-0875-4aaf-99fa-b6bf9805eaed",
   "metadata": {},
   "source": [
    "# Example on how to connect to a fuseki SPARQL instance"
   ]
  },
  {
   "cell_type": "code",
   "execution_count": 1,
   "id": "7c0c382b-2697-4431-b308-f8b507c572e3",
   "metadata": {},
   "outputs": [],
   "source": [
    "# pip3 install sparqlwrapper\n",
    "# https://sparqlwrapper.readthedocs.io/en/latest/main.html\n",
    "from SPARQLWrapper import SPARQLWrapper, JSON"
   ]
  },
  {
   "cell_type": "code",
   "execution_count": 3,
   "id": "b0ea7299-9571-4c0a-b835-eeeb2c71279d",
   "metadata": {},
   "outputs": [],
   "source": [
    "sparql = SPARQLWrapper(\"https://enigma-endpoint.disk.isi.edu/enigma_dev/sparql\")\n",
    "user = %env SPARQL_USER\n",
    "passwd = %env SPARQL_PASSWORD\n",
    "sparql.setCredentials(user, passwd)"
   ]
  },
  {
   "cell_type": "code",
   "execution_count": 4,
   "id": "29645094-5be9-4b7e-883f-ab015d6104f8",
   "metadata": {},
   "outputs": [],
   "source": [
    "query = \"\"\"PREFIX rdfs: <http://www.w3.org/2000/01/rdf-schema#>\n",
    "SELECT DISTINCT ?project ?Cohorts  WHERE { \n",
    "  ?project ?hasCohort ?Cohorts .\n",
    "  ?hasCohort rdfs:label \"HasCohort (E)\" .\n",
    "} limit 10\"\"\""
   ]
  },
  {
   "cell_type": "code",
   "execution_count": 5,
   "id": "07b47372-07fb-401c-8114-3ae1e0925169",
   "metadata": {},
   "outputs": [],
   "source": [
    "sparql.setQuery(query)\n",
    "sparql.setReturnFormat(JSON)\n",
    "results = sparql.query().convert()"
   ]
  },
  {
   "cell_type": "code",
   "execution_count": 14,
   "id": "8e557003-0d16-4701-a612-0fee06cc5152",
   "metadata": {},
   "outputs": [],
   "source": [
    "def rename (oldName) :\n",
    "    return oldName.replace('localhost:8080','www.organicdatacuration.org')"
   ]
  },
  {
   "cell_type": "code",
   "execution_count": 19,
   "id": "ff38fda0-190f-48dd-8bc0-067c523d4fd7",
   "metadata": {},
   "outputs": [
    {
     "data": {
      "text/plain": [
       "[('http://www.organicdatacuration.org/enigma_dev/Special:URIResolver/Proj_ENIGMA3_Cortical_GWAS',\n",
       "  'http://www.organicdatacuration.org/enigma_dev/Special:URIResolver/1000BRAINS'),\n",
       " ('http://www.organicdatacuration.org/enigma_dev/Special:URIResolver/Proj_ENIGMA3_Cortical_GWAS',\n",
       "  'http://www.organicdatacuration.org/enigma_dev/Special:URIResolver/ADNI1'),\n",
       " ('http://www.organicdatacuration.org/enigma_dev/Special:URIResolver/Proj_ENIGMA3_Cortical_GWAS',\n",
       "  'http://www.organicdatacuration.org/enigma_dev/Special:URIResolver/ADNI2GO'),\n",
       " ('http://www.organicdatacuration.org/enigma_dev/Special:URIResolver/Proj_ENIGMA3_Cortical_GWAS',\n",
       "  'http://www.organicdatacuration.org/enigma_dev/Special:URIResolver/ALSPACa'),\n",
       " ('http://www.organicdatacuration.org/enigma_dev/Special:URIResolver/Proj_ENIGMA3_Cortical_GWAS',\n",
       "  'http://www.organicdatacuration.org/enigma_dev/Special:URIResolver/ASRB'),\n",
       " ('http://www.organicdatacuration.org/enigma_dev/Special:URIResolver/Schizophrenia_WG',\n",
       "  'http://www.organicdatacuration.org/enigma_dev/Special:URIResolver/ASRB'),\n",
       " ('http://www.organicdatacuration.org/enigma_dev/Special:URIResolver/Proj_Cortical_SCZ',\n",
       "  'http://www.organicdatacuration.org/enigma_dev/Special:URIResolver/ASRB'),\n",
       " ('http://www.organicdatacuration.org/enigma_dev/Special:URIResolver/Proj_Positive_Symptoms_SCZ',\n",
       "  'http://www.organicdatacuration.org/enigma_dev/Special:URIResolver/ASRB'),\n",
       " ('http://www.organicdatacuration.org/enigma_dev/Special:URIResolver/Proj_ENIGMA3_Cortical_GWAS',\n",
       "  'http://www.organicdatacuration.org/enigma_dev/Special:URIResolver/BETULA'),\n",
       " ('http://www.organicdatacuration.org/enigma_dev/Special:URIResolver/Proj_ENIGMA3_Cortical_GWAS',\n",
       "  'http://www.organicdatacuration.org/enigma_dev/Special:URIResolver/BIG-2DAffy')]"
      ]
     },
     "execution_count": 19,
     "metadata": {},
     "output_type": "execute_result"
    }
   ],
   "source": [
    "[(rename(x['project']['value']), rename(x['Cohorts']['value']))\n",
    "    for x in results['results']['bindings']]"
   ]
  }
 ],
 "metadata": {
  "kernelspec": {
   "display_name": "Python 3 (ipykernel)",
   "language": "python",
   "name": "python3"
  },
  "language_info": {
   "codemirror_mode": {
    "name": "ipython",
    "version": 3
   },
   "file_extension": ".py",
   "mimetype": "text/x-python",
   "name": "python",
   "nbconvert_exporter": "python",
   "pygments_lexer": "ipython3",
   "version": "3.12.2"
  }
 },
 "nbformat": 4,
 "nbformat_minor": 5
}
